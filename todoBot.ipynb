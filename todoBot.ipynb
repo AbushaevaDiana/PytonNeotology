{
  "nbformat": 4,
  "nbformat_minor": 0,
  "metadata": {
    "colab": {
      "name": "todoBot.ipynb",
      "provenance": [],
      "collapsed_sections": [],
      "authorship_tag": "ABX9TyNVq1ePp6UHZVkHILezFr5b",
      "include_colab_link": true
    },
    "kernelspec": {
      "name": "python3",
      "display_name": "Python 3"
    },
    "language_info": {
      "name": "python"
    }
  },
  "cells": [
    {
      "cell_type": "markdown",
      "metadata": {
        "id": "view-in-github",
        "colab_type": "text"
      },
      "source": [
        "<a href=\"https://colab.research.google.com/github/AbushaevaDiana/PytonNeotology/blob/bot/todoBot.ipynb\" target=\"_parent\"><img src=\"https://colab.research.google.com/assets/colab-badge.svg\" alt=\"Open In Colab\"/></a>"
      ]
    },
    {
      "cell_type": "code",
      "execution_count": 24,
      "metadata": {
        "colab": {
          "base_uri": "https://localhost:8080/"
        },
        "id": "4pWdFmardxNJ",
        "outputId": "9885a930-79ed-4808-bcde-c8585799595f"
      },
      "outputs": [
        {
          "output_type": "stream",
          "name": "stdout",
          "text": [
            "Requirement already satisfied: PyTelegramBotAPI==3.6.7 in /usr/local/lib/python3.7/dist-packages (3.6.7)\n",
            "Requirement already satisfied: six in /usr/local/lib/python3.7/dist-packages (from PyTelegramBotAPI==3.6.7) (1.15.0)\n",
            "Requirement already satisfied: requests in /usr/local/lib/python3.7/dist-packages (from PyTelegramBotAPI==3.6.7) (2.23.0)\n",
            "Requirement already satisfied: idna<3,>=2.5 in /usr/local/lib/python3.7/dist-packages (from requests->PyTelegramBotAPI==3.6.7) (2.10)\n",
            "Requirement already satisfied: chardet<4,>=3.0.2 in /usr/local/lib/python3.7/dist-packages (from requests->PyTelegramBotAPI==3.6.7) (3.0.4)\n",
            "Requirement already satisfied: urllib3!=1.25.0,!=1.25.1,<1.26,>=1.21.1 in /usr/local/lib/python3.7/dist-packages (from requests->PyTelegramBotAPI==3.6.7) (1.24.3)\n",
            "Requirement already satisfied: certifi>=2017.4.17 in /usr/local/lib/python3.7/dist-packages (from requests->PyTelegramBotAPI==3.6.7) (2021.10.8)\n"
          ]
        }
      ],
      "source": [
        "# установим не самую последнюю версию для валидности дальнейшего кода\n",
        "#pip3 install PyTelegramBotAPI\n",
        "\n",
        "!pip3 install PyTelegramBotAPI==3.6.7\n"
      ]
    },
    {
      "cell_type": "code",
      "source": [
        "import telebot"
      ],
      "metadata": {
        "id": "D6O7aXvZeysk"
      },
      "execution_count": 25,
      "outputs": []
    },
    {
      "cell_type": "code",
      "source": [
        "import random as r\n",
        "token = \"5304087488:AAEkdXqrah3ANY8ok5vBZBBuPu3-dquVfbg\"\n",
        "bot = telebot.TeleBot(token)\n",
        "\n",
        "\n",
        "HELP = \"\"\"/help - напечатать справку по программе\n",
        "/add - добавить задачу в список\n",
        "/show - показать все добавленные задачи\n",
        "/random - добавление случайной задачи на сегодня\n",
        "\"\"\"\n",
        "randomTasks = [\"Записаться на курс Неотологии\", \"Потренироваться в коде\", \"Вышивать\", \"Приготовить десерт\"]\n",
        "todo = {}\n",
        "\n",
        "def addTask(day, task):\n",
        "  if not (day in todo):\n",
        "    todo[day] = []\n",
        "  todo[day].append(task)\n",
        "\n",
        "\n",
        "@bot.message_handler(commands=[\"help\"])\n",
        "def help(message):\n",
        "  bot.send_message(message.chat.id, HELP)\n",
        "\n",
        "@bot.message_handler(commands=[\"add\"])\n",
        "def add(message):\n",
        "  command = message.text.split(maxsplit = 2)\n",
        "  day = command[1].lower()\n",
        "  task = command[2]\n",
        "  addTask(day, task)\n",
        "  text = \"Задача \" + task +  \" добавленна на дату: \" + day\n",
        "  bot.send_message(message.chat.id, text)\n",
        "\n",
        "@bot.message_handler(commands=[\"random\"])\n",
        "def random(message):\n",
        "  task = r.choice(randomTasks)\n",
        "  addTask(\"сегодня\", task)\n",
        "  text = \"Задача \" + task +  \" добавленна на дату: сегодня\"\n",
        "  bot.send_message(message.chat.id, text)\n",
        "\n",
        "@bot.message_handler(commands=[\"show\", \"print\"])\n",
        "def random(message):\n",
        "  command = message.text.split(maxsplit = 1)\n",
        "  day = command[1].lower()\n",
        "  text = \"\"\n",
        "  if day in todo:\n",
        "    text = day.upper() + \"\\n\"\n",
        "    for task in todo[day]:\n",
        "      text = text + \"-\" + task + \"\\n\"\n",
        "  else:\n",
        "    text = \"На эту дату нет задач\"\n",
        "  bot.send_message(message.chat.id, text)\n",
        "\n",
        "\n",
        "#Постоянное обращение к серверам телеграм\n",
        "bot.polling(none_stop=True)"
      ],
      "metadata": {
        "id": "5EZkNVQBe5e0"
      },
      "execution_count": 35,
      "outputs": []
    }
  ]
}