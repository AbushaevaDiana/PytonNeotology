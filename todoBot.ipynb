{
  "nbformat": 4,
  "nbformat_minor": 0,
  "metadata": {
    "colab": {
      "name": "todoBot.ipynb",
      "provenance": [],
      "collapsed_sections": [],
      "authorship_tag": "ABX9TyPi+G5oH80Q64JfxiFfoY8d",
      "include_colab_link": true
    },
    "kernelspec": {
      "name": "python3",
      "display_name": "Python 3"
    },
    "language_info": {
      "name": "python"
    }
  },
  "cells": [
    {
      "cell_type": "markdown",
      "metadata": {
        "id": "view-in-github",
        "colab_type": "text"
      },
      "source": [
        "<a href=\"https://colab.research.google.com/github/AbushaevaDiana/PytonNeotology/blob/bot/todoBot.ipynb\" target=\"_parent\"><img src=\"https://colab.research.google.com/assets/colab-badge.svg\" alt=\"Open In Colab\"/></a>"
      ]
    },
    {
      "cell_type": "code",
      "execution_count": null,
      "metadata": {
        "colab": {
          "base_uri": "https://localhost:8080/"
        },
        "id": "4pWdFmardxNJ",
        "outputId": "0d141473-fcd4-4932-fd2e-75e88151bade"
      },
      "outputs": [
        {
          "output_type": "stream",
          "name": "stdout",
          "text": [
            "Requirement already satisfied: PyTelegramBotAPI==3.6.7 in /usr/local/lib/python3.7/dist-packages (3.6.7)\n",
            "Requirement already satisfied: requests in /usr/local/lib/python3.7/dist-packages (from PyTelegramBotAPI==3.6.7) (2.23.0)\n",
            "Requirement already satisfied: six in /usr/local/lib/python3.7/dist-packages (from PyTelegramBotAPI==3.6.7) (1.15.0)\n",
            "Requirement already satisfied: chardet<4,>=3.0.2 in /usr/local/lib/python3.7/dist-packages (from requests->PyTelegramBotAPI==3.6.7) (3.0.4)\n",
            "Requirement already satisfied: urllib3!=1.25.0,!=1.25.1,<1.26,>=1.21.1 in /usr/local/lib/python3.7/dist-packages (from requests->PyTelegramBotAPI==3.6.7) (1.24.3)\n",
            "Requirement already satisfied: idna<3,>=2.5 in /usr/local/lib/python3.7/dist-packages (from requests->PyTelegramBotAPI==3.6.7) (2.10)\n",
            "Requirement already satisfied: certifi>=2017.4.17 in /usr/local/lib/python3.7/dist-packages (from requests->PyTelegramBotAPI==3.6.7) (2021.10.8)\n"
          ]
        }
      ],
      "source": [
        "# установим не самую последнюю версию для валидности дальнейшего кода\n",
        "#pip3 install PyTelegramBotAPI\n",
        "\n",
        "!pip3 install PyTelegramBotAPI==3.6.7\n"
      ]
    },
    {
      "cell_type": "code",
      "source": [
        "import telebot"
      ],
      "metadata": {
        "id": "D6O7aXvZeysk"
      },
      "execution_count": null,
      "outputs": []
    },
    {
      "cell_type": "code",
      "source": [
        "token = \"5304087488:AAEkdXqrah3ANY8ok5vBZBBuPu3-dquVfbg\"\n",
        "bot = telebot.TeleBot(token)\n",
        "\n",
        "@bot.message_handler(content_types=[\"text\"])\n",
        "def echo(message):\n",
        "  bot.send_message(message.chat.id, message.text)\n",
        "\n",
        "#Постоянное обращение к серверам телеграм\n",
        "bot.polling(none_stop=True)"
      ],
      "metadata": {
        "id": "5EZkNVQBe5e0"
      },
      "execution_count": 23,
      "outputs": []
    }
  ]
}